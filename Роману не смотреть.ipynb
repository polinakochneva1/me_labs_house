{
  "nbformat": 4,
  "nbformat_minor": 0,
  "metadata": {
    "colab": {
      "provenance": [],
      "authorship_tag": "ABX9TyPkvC/IhzDla3wkViUfP1yJ",
      "include_colab_link": true
    },
    "kernelspec": {
      "name": "python3",
      "display_name": "Python 3"
    },
    "language_info": {
      "name": "python"
    }
  },
  "cells": [
    {
      "cell_type": "markdown",
      "metadata": {
        "id": "view-in-github",
        "colab_type": "text"
      },
      "source": [
        "<a href=\"https://colab.research.google.com/github/polinakochneva1/me_labs_house/blob/main/%D0%A0%D0%BE%D0%BC%D0%B0%D0%BD%D1%83%20%D0%BD%D0%B5%20%D1%81%D0%BC%D0%BE%D1%82%D1%80%D0%B5%D1%82%D1%8C.ipynb\" target=\"_parent\"><img src=\"https://colab.research.google.com/assets/colab-badge.svg\" alt=\"Open In Colab\"/></a>"
      ]
    },
    {
      "cell_type": "code",
      "execution_count": 1,
      "metadata": {
        "id": "4gsOkfAqa0aX"
      },
      "outputs": [],
      "source": [
        "from scipy.optimize import linprog"
      ]
    },
    {
      "cell_type": "markdown",
      "source": [
        " Cледовательно надо вкладываться в проекты A,C,D\n",
        "\n",
        " В итоге прибыль составит 54500 долл., а необходимая наличность составит: в 1-ом периоде – 22000 долл., во 2-ом периоде – 23000 долл., в 3-ем периоде – 26000 долл.,  в 4-ом периоде – 27000 долл.\n",
        "\n",
        " Остатки наличности составят: во 2-ом периоде – 2000 долл., в 3-ем периоде – 12000 долл., в 4-ом периоде – 3000 долл. Их следует использовать в целях получения дополнительной прибыли."
      ],
      "metadata": {
        "id": "G7NvH64KirS0"
      }
    },
    {
      "cell_type": "code",
      "source": [
        "coef = [-21000, -18000, -16000, -17500] #должен принести компании доход\n",
        "Ab = [\n",
        "    [8000, 7000, 5000 ,9000],\n",
        "    [8000, 9000, 7000, 8000],\n",
        "    [10000, 9000, 9000, 7000],\n",
        "    [10000, 11000, 11000, 6000]\n",
        "    ]\n",
        "bb = [22000,25000,38000,30000] #Доступная наличность в течение периода..."
      ],
      "metadata": {
        "id": "6XS55KgXa3Wr"
      },
      "execution_count": 2,
      "outputs": []
    },
    {
      "cell_type": "code",
      "source": [
        "model = linprog(c=coef, A_ub=Ab, b_ub=bb, bounds=(0,1), method='highs', integrality=1)"
      ],
      "metadata": {
        "id": "nyCBycPYa4NU"
      },
      "execution_count": 5,
      "outputs": []
    },
    {
      "cell_type": "code",
      "source": [
        "print ('Матрица решения:\\n',model.x)"
      ],
      "metadata": {
        "colab": {
          "base_uri": "https://localhost:8080/"
        },
        "id": "UBGDz7Rga4j9",
        "outputId": "aff8a6f2-a073-4148-9a70-a250c4453a11"
      },
      "execution_count": 9,
      "outputs": [
        {
          "output_type": "stream",
          "name": "stdout",
          "text": [
            "Матрица решения:\n",
            " [ 1. -0.  1.  1.]\n"
          ]
        }
      ]
    },
    {
      "cell_type": "code",
      "source": [
        "model.fun"
      ],
      "metadata": {
        "colab": {
          "base_uri": "https://localhost:8080/"
        },
        "id": "o9gxJtKLhqmX",
        "outputId": "e03f9b74-8c2d-4e17-9b3a-732da773d6de"
      },
      "execution_count": 10,
      "outputs": [
        {
          "output_type": "execute_result",
          "data": {
            "text/plain": [
              "-54500.0"
            ]
          },
          "metadata": {},
          "execution_count": 10
        }
      ]
    }
  ]
}
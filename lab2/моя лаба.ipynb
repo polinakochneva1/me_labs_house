{
  "nbformat": 4,
  "nbformat_minor": 0,
  "metadata": {
    "colab": {
      "provenance": [],
      "include_colab_link": true
    },
    "kernelspec": {
      "name": "python3",
      "display_name": "Python 3"
    },
    "language_info": {
      "name": "python"
    }
  },
  "cells": [
    {
      "cell_type": "markdown",
      "metadata": {
        "id": "view-in-github",
        "colab_type": "text"
      },
      "source": [
        "<a href=\"https://colab.research.google.com/github/polinakochneva1/me_labs_house/blob/main/lab2/%D0%BC%D0%BE%D1%8F%20%D0%BB%D0%B0%D0%B1%D0%B0.ipynb\" target=\"_parent\"><img src=\"https://colab.research.google.com/assets/colab-badge.svg\" alt=\"Open In Colab\"/></a>"
      ]
    },
    {
      "cell_type": "markdown",
      "source": [
        "#Задание по практике 2"
      ],
      "metadata": {
        "id": "_dGfjiUjUNab"
      }
    },
    {
      "cell_type": "code",
      "source": [
        "!pip install pandas\n",
        "!pip install seaborn"
      ],
      "metadata": {
        "id": "wXXP-hXKrxPW",
        "outputId": "f1c41c84-550e-4442-ea8c-0386cc5720a3",
        "colab": {
          "base_uri": "https://localhost:8080/"
        }
      },
      "execution_count": 1,
      "outputs": [
        {
          "output_type": "stream",
          "name": "stdout",
          "text": [
            "Requirement already satisfied: pandas in /usr/local/lib/python3.10/dist-packages (1.5.3)\n",
            "Requirement already satisfied: python-dateutil>=2.8.1 in /usr/local/lib/python3.10/dist-packages (from pandas) (2.8.2)\n",
            "Requirement already satisfied: pytz>=2020.1 in /usr/local/lib/python3.10/dist-packages (from pandas) (2023.3.post1)\n",
            "Requirement already satisfied: numpy>=1.21.0 in /usr/local/lib/python3.10/dist-packages (from pandas) (1.23.5)\n",
            "Requirement already satisfied: six>=1.5 in /usr/local/lib/python3.10/dist-packages (from python-dateutil>=2.8.1->pandas) (1.16.0)\n",
            "Requirement already satisfied: seaborn in /usr/local/lib/python3.10/dist-packages (0.12.2)\n",
            "Requirement already satisfied: numpy!=1.24.0,>=1.17 in /usr/local/lib/python3.10/dist-packages (from seaborn) (1.23.5)\n",
            "Requirement already satisfied: pandas>=0.25 in /usr/local/lib/python3.10/dist-packages (from seaborn) (1.5.3)\n",
            "Requirement already satisfied: matplotlib!=3.6.1,>=3.1 in /usr/local/lib/python3.10/dist-packages (from seaborn) (3.7.1)\n",
            "Requirement already satisfied: contourpy>=1.0.1 in /usr/local/lib/python3.10/dist-packages (from matplotlib!=3.6.1,>=3.1->seaborn) (1.1.1)\n",
            "Requirement already satisfied: cycler>=0.10 in /usr/local/lib/python3.10/dist-packages (from matplotlib!=3.6.1,>=3.1->seaborn) (0.12.0)\n",
            "Requirement already satisfied: fonttools>=4.22.0 in /usr/local/lib/python3.10/dist-packages (from matplotlib!=3.6.1,>=3.1->seaborn) (4.43.0)\n",
            "Requirement already satisfied: kiwisolver>=1.0.1 in /usr/local/lib/python3.10/dist-packages (from matplotlib!=3.6.1,>=3.1->seaborn) (1.4.5)\n",
            "Requirement already satisfied: packaging>=20.0 in /usr/local/lib/python3.10/dist-packages (from matplotlib!=3.6.1,>=3.1->seaborn) (23.2)\n",
            "Requirement already satisfied: pillow>=6.2.0 in /usr/local/lib/python3.10/dist-packages (from matplotlib!=3.6.1,>=3.1->seaborn) (9.4.0)\n",
            "Requirement already satisfied: pyparsing>=2.3.1 in /usr/local/lib/python3.10/dist-packages (from matplotlib!=3.6.1,>=3.1->seaborn) (3.1.1)\n",
            "Requirement already satisfied: python-dateutil>=2.7 in /usr/local/lib/python3.10/dist-packages (from matplotlib!=3.6.1,>=3.1->seaborn) (2.8.2)\n",
            "Requirement already satisfied: pytz>=2020.1 in /usr/local/lib/python3.10/dist-packages (from pandas>=0.25->seaborn) (2023.3.post1)\n",
            "Requirement already satisfied: six>=1.5 in /usr/local/lib/python3.10/dist-packages (from python-dateutil>=2.7->matplotlib!=3.6.1,>=3.1->seaborn) (1.16.0)\n"
          ]
        }
      ]
    },
    {
      "cell_type": "code",
      "execution_count": 2,
      "metadata": {
        "id": "7u0VPzz-UKNu"
      },
      "outputs": [],
      "source": [
        "import pandas as pd\n",
        "import seaborn as sns\n",
        "import matplotlib.pyplot as plt"
      ]
    },
    {
      "cell_type": "markdown",
      "source": [
        "##Введение в описательную статистику"
      ],
      "metadata": {
        "id": "yKPA-E-VVSS-"
      }
    },
    {
      "cell_type": "markdown",
      "source": [
        "1. Выберите категориальную целевую переменную (**Y**)\n",
        "\n",
        "2. Выберите переменную для анализа относительно категории (**X**)\n",
        "\n",
        "3. Выведитие обобщенную статистическую информацию переменной (**X**)\n",
        "\n",
        "2. Вычислите среднее, медиану, моду, минимум, максимум, стандартное отклонение относительно целевой пременной из файла Classification datasets в соответствии с вашим вариантом\n",
        "\n",
        "3. Сделайте вывод относительно полученных результатов\n",
        "\n",
        "p.s если у вас нет категориальных признаков - преобразуйте любой числовой в категориальный (https://pandas.pydata.org/docs/reference/api/pandas.cut.html). Важно **не** использовать преобразованный Y вместе с этим же X (то есть, если вы преобразовали возраст в категорию, то вы не моежет использовать возраст в качестве X и возраст категорию в качестве Y)"
      ],
      "metadata": {
        "id": "Rrr4WPcGUwOx"
      }
    },
    {
      "cell_type": "code",
      "source": [
        "df = pd.read_csv('/content/global-data-on-sustainable-energy (1).csv')\n",
        "df"
      ],
      "metadata": {
        "id": "wZiCpTwgUuYw",
        "outputId": "b93ece4c-ed4a-4c66-8200-3520cb9ea495",
        "colab": {
          "base_uri": "https://localhost:8080/",
          "height": 565
        }
      },
      "execution_count": 18,
      "outputs": [
        {
          "output_type": "execute_result",
          "data": {
            "text/plain": [
              "           Entity  Year  Access to electricity (% of population)  \\\n",
              "0     Afghanistan  2000                                 1.613591   \n",
              "1     Afghanistan  2001                                 4.074574   \n",
              "2     Afghanistan  2002                                 9.409158   \n",
              "3     Afghanistan  2003                                14.738506   \n",
              "4     Afghanistan  2004                                20.064968   \n",
              "...           ...   ...                                      ...   \n",
              "3644     Zimbabwe  2016                                42.561730   \n",
              "3645     Zimbabwe  2017                                44.178635   \n",
              "3646     Zimbabwe  2018                                45.572647   \n",
              "3647     Zimbabwe  2019                                46.781475   \n",
              "3648     Zimbabwe  2020                                52.747670   \n",
              "\n",
              "      Access to clean fuels for cooking  \\\n",
              "0                                   6.2   \n",
              "1                                   7.2   \n",
              "2                                   8.2   \n",
              "3                                   9.5   \n",
              "4                                  10.9   \n",
              "...                                 ...   \n",
              "3644                               29.8   \n",
              "3645                               29.8   \n",
              "3646                               29.9   \n",
              "3647                               30.1   \n",
              "3648                               30.4   \n",
              "\n",
              "      Renewable-electricity-generating-capacity-per-capita  \\\n",
              "0                                                  9.22      \n",
              "1                                                  8.86      \n",
              "2                                                  8.47      \n",
              "3                                                  8.09      \n",
              "4                                                  7.75      \n",
              "...                                                 ...      \n",
              "3644                                              62.88      \n",
              "3645                                              62.33      \n",
              "3646                                              82.53      \n",
              "3647                                              81.40      \n",
              "3648                                              80.61      \n",
              "\n",
              "      Financial flows to developing countries (US $)  \\\n",
              "0                                            20000.0   \n",
              "1                                           130000.0   \n",
              "2                                          3950000.0   \n",
              "3                                         25970000.0   \n",
              "4                                                NaN   \n",
              "...                                              ...   \n",
              "3644                                         30000.0   \n",
              "3645                                       5570000.0   \n",
              "3646                                         10000.0   \n",
              "3647                                        250000.0   \n",
              "3648                                         30000.0   \n",
              "\n",
              "      Renewable energy share in the total final energy consumption (%)  \\\n",
              "0                                                 44.99                  \n",
              "1                                                 45.60                  \n",
              "2                                                 37.83                  \n",
              "3                                                 36.66                  \n",
              "4                                                 44.24                  \n",
              "...                                                 ...                  \n",
              "3644                                              81.90                  \n",
              "3645                                              82.46                  \n",
              "3646                                              80.23                  \n",
              "3647                                              81.50                  \n",
              "3648                                              81.90                  \n",
              "\n",
              "      Electricity from fossil fuels (TWh)  Electricity from nuclear (TWh)  \\\n",
              "0                                    0.16                             0.0   \n",
              "1                                    0.09                             0.0   \n",
              "2                                    0.13                             0.0   \n",
              "3                                    0.31                             0.0   \n",
              "4                                    0.33                             0.0   \n",
              "...                                   ...                             ...   \n",
              "3644                                 3.50                             0.0   \n",
              "3645                                 3.05                             0.0   \n",
              "3646                                 3.73                             0.0   \n",
              "3647                                 3.66                             0.0   \n",
              "3648                                 3.40                             0.0   \n",
              "\n",
              "      Electricity from renewables (TWh)  ...  \\\n",
              "0                                  0.31  ...   \n",
              "1                                  0.50  ...   \n",
              "2                                  0.56  ...   \n",
              "3                                  0.63  ...   \n",
              "4                                  0.56  ...   \n",
              "...                                 ...  ...   \n",
              "3644                               3.32  ...   \n",
              "3645                               4.30  ...   \n",
              "3646                               5.46  ...   \n",
              "3647                               4.58  ...   \n",
              "3648                               4.19  ...   \n",
              "\n",
              "      Primary energy consumption per capita (kWh/person)  \\\n",
              "0                                             302.59482    \n",
              "1                                             236.89185    \n",
              "2                                             210.86215    \n",
              "3                                             229.96822    \n",
              "4                                             204.23125    \n",
              "...                                                 ...    \n",
              "3644                                         3227.68020    \n",
              "3645                                         3068.01150    \n",
              "3646                                         3441.98580    \n",
              "3647                                         3003.65530    \n",
              "3648                                         2680.13180    \n",
              "\n",
              "      Energy intensity level of primary energy (MJ/$2017 PPP GDP)  \\\n",
              "0                                                  1.64             \n",
              "1                                                  1.74             \n",
              "2                                                  1.40             \n",
              "3                                                  1.40             \n",
              "4                                                  1.20             \n",
              "...                                                 ...             \n",
              "3644                                              10.00             \n",
              "3645                                               9.51             \n",
              "3646                                               9.83             \n",
              "3647                                              10.47             \n",
              "3648                                              10.00             \n",
              "\n",
              "      Value_co2_emissions_kt_by_country  \\\n",
              "0                            760.000000   \n",
              "1                            730.000000   \n",
              "2                           1029.999971   \n",
              "3                           1220.000029   \n",
              "4                           1029.999971   \n",
              "...                                 ...   \n",
              "3644                       11020.000460   \n",
              "3645                       10340.000150   \n",
              "3646                       12380.000110   \n",
              "3647                       11760.000230   \n",
              "3648                                NaN   \n",
              "\n",
              "      Renewables (% equivalent primary energy)  gdp_growth  gdp_per_capita  \\\n",
              "0                                          NaN         NaN             NaN   \n",
              "1                                          NaN         NaN             NaN   \n",
              "2                                          NaN         NaN      179.426579   \n",
              "3                                          NaN    8.832278      190.683814   \n",
              "4                                          NaN    1.414118      211.382074   \n",
              "...                                        ...         ...             ...   \n",
              "3644                                       NaN    0.755869     1464.588957   \n",
              "3645                                       NaN    4.709492     1235.189032   \n",
              "3646                                       NaN    4.824211     1254.642265   \n",
              "3647                                       NaN   -6.144236     1316.740657   \n",
              "3648                                       NaN   -6.248748     1214.509820   \n",
              "\n",
              "      Density\\n(P/Km2) Land Area(Km2)   Latitude  Longitude  \n",
              "0                   60       652230.0  33.939110  67.709953  \n",
              "1                   60       652230.0  33.939110  67.709953  \n",
              "2                   60       652230.0  33.939110  67.709953  \n",
              "3                   60       652230.0  33.939110  67.709953  \n",
              "4                   60       652230.0  33.939110  67.709953  \n",
              "...                ...            ...        ...        ...  \n",
              "3644                38       390757.0 -19.015438  29.154857  \n",
              "3645                38       390757.0 -19.015438  29.154857  \n",
              "3646                38       390757.0 -19.015438  29.154857  \n",
              "3647                38       390757.0 -19.015438  29.154857  \n",
              "3648                38       390757.0 -19.015438  29.154857  \n",
              "\n",
              "[3649 rows x 21 columns]"
            ],
            "text/html": [
              "\n",
              "  <div id=\"df-ef693746-895c-4968-a4e3-5b7e9924242d\" class=\"colab-df-container\">\n",
              "    <div>\n",
              "<style scoped>\n",
              "    .dataframe tbody tr th:only-of-type {\n",
              "        vertical-align: middle;\n",
              "    }\n",
              "\n",
              "    .dataframe tbody tr th {\n",
              "        vertical-align: top;\n",
              "    }\n",
              "\n",
              "    .dataframe thead th {\n",
              "        text-align: right;\n",
              "    }\n",
              "</style>\n",
              "<table border=\"1\" class=\"dataframe\">\n",
              "  <thead>\n",
              "    <tr style=\"text-align: right;\">\n",
              "      <th></th>\n",
              "      <th>Entity</th>\n",
              "      <th>Year</th>\n",
              "      <th>Access to electricity (% of population)</th>\n",
              "      <th>Access to clean fuels for cooking</th>\n",
              "      <th>Renewable-electricity-generating-capacity-per-capita</th>\n",
              "      <th>Financial flows to developing countries (US $)</th>\n",
              "      <th>Renewable energy share in the total final energy consumption (%)</th>\n",
              "      <th>Electricity from fossil fuels (TWh)</th>\n",
              "      <th>Electricity from nuclear (TWh)</th>\n",
              "      <th>Electricity from renewables (TWh)</th>\n",
              "      <th>...</th>\n",
              "      <th>Primary energy consumption per capita (kWh/person)</th>\n",
              "      <th>Energy intensity level of primary energy (MJ/$2017 PPP GDP)</th>\n",
              "      <th>Value_co2_emissions_kt_by_country</th>\n",
              "      <th>Renewables (% equivalent primary energy)</th>\n",
              "      <th>gdp_growth</th>\n",
              "      <th>gdp_per_capita</th>\n",
              "      <th>Density\\n(P/Km2)</th>\n",
              "      <th>Land Area(Km2)</th>\n",
              "      <th>Latitude</th>\n",
              "      <th>Longitude</th>\n",
              "    </tr>\n",
              "  </thead>\n",
              "  <tbody>\n",
              "    <tr>\n",
              "      <th>0</th>\n",
              "      <td>Afghanistan</td>\n",
              "      <td>2000</td>\n",
              "      <td>1.613591</td>\n",
              "      <td>6.2</td>\n",
              "      <td>9.22</td>\n",
              "      <td>20000.0</td>\n",
              "      <td>44.99</td>\n",
              "      <td>0.16</td>\n",
              "      <td>0.0</td>\n",
              "      <td>0.31</td>\n",
              "      <td>...</td>\n",
              "      <td>302.59482</td>\n",
              "      <td>1.64</td>\n",
              "      <td>760.000000</td>\n",
              "      <td>NaN</td>\n",
              "      <td>NaN</td>\n",
              "      <td>NaN</td>\n",
              "      <td>60</td>\n",
              "      <td>652230.0</td>\n",
              "      <td>33.939110</td>\n",
              "      <td>67.709953</td>\n",
              "    </tr>\n",
              "    <tr>\n",
              "      <th>1</th>\n",
              "      <td>Afghanistan</td>\n",
              "      <td>2001</td>\n",
              "      <td>4.074574</td>\n",
              "      <td>7.2</td>\n",
              "      <td>8.86</td>\n",
              "      <td>130000.0</td>\n",
              "      <td>45.60</td>\n",
              "      <td>0.09</td>\n",
              "      <td>0.0</td>\n",
              "      <td>0.50</td>\n",
              "      <td>...</td>\n",
              "      <td>236.89185</td>\n",
              "      <td>1.74</td>\n",
              "      <td>730.000000</td>\n",
              "      <td>NaN</td>\n",
              "      <td>NaN</td>\n",
              "      <td>NaN</td>\n",
              "      <td>60</td>\n",
              "      <td>652230.0</td>\n",
              "      <td>33.939110</td>\n",
              "      <td>67.709953</td>\n",
              "    </tr>\n",
              "    <tr>\n",
              "      <th>2</th>\n",
              "      <td>Afghanistan</td>\n",
              "      <td>2002</td>\n",
              "      <td>9.409158</td>\n",
              "      <td>8.2</td>\n",
              "      <td>8.47</td>\n",
              "      <td>3950000.0</td>\n",
              "      <td>37.83</td>\n",
              "      <td>0.13</td>\n",
              "      <td>0.0</td>\n",
              "      <td>0.56</td>\n",
              "      <td>...</td>\n",
              "      <td>210.86215</td>\n",
              "      <td>1.40</td>\n",
              "      <td>1029.999971</td>\n",
              "      <td>NaN</td>\n",
              "      <td>NaN</td>\n",
              "      <td>179.426579</td>\n",
              "      <td>60</td>\n",
              "      <td>652230.0</td>\n",
              "      <td>33.939110</td>\n",
              "      <td>67.709953</td>\n",
              "    </tr>\n",
              "    <tr>\n",
              "      <th>3</th>\n",
              "      <td>Afghanistan</td>\n",
              "      <td>2003</td>\n",
              "      <td>14.738506</td>\n",
              "      <td>9.5</td>\n",
              "      <td>8.09</td>\n",
              "      <td>25970000.0</td>\n",
              "      <td>36.66</td>\n",
              "      <td>0.31</td>\n",
              "      <td>0.0</td>\n",
              "      <td>0.63</td>\n",
              "      <td>...</td>\n",
              "      <td>229.96822</td>\n",
              "      <td>1.40</td>\n",
              "      <td>1220.000029</td>\n",
              "      <td>NaN</td>\n",
              "      <td>8.832278</td>\n",
              "      <td>190.683814</td>\n",
              "      <td>60</td>\n",
              "      <td>652230.0</td>\n",
              "      <td>33.939110</td>\n",
              "      <td>67.709953</td>\n",
              "    </tr>\n",
              "    <tr>\n",
              "      <th>4</th>\n",
              "      <td>Afghanistan</td>\n",
              "      <td>2004</td>\n",
              "      <td>20.064968</td>\n",
              "      <td>10.9</td>\n",
              "      <td>7.75</td>\n",
              "      <td>NaN</td>\n",
              "      <td>44.24</td>\n",
              "      <td>0.33</td>\n",
              "      <td>0.0</td>\n",
              "      <td>0.56</td>\n",
              "      <td>...</td>\n",
              "      <td>204.23125</td>\n",
              "      <td>1.20</td>\n",
              "      <td>1029.999971</td>\n",
              "      <td>NaN</td>\n",
              "      <td>1.414118</td>\n",
              "      <td>211.382074</td>\n",
              "      <td>60</td>\n",
              "      <td>652230.0</td>\n",
              "      <td>33.939110</td>\n",
              "      <td>67.709953</td>\n",
              "    </tr>\n",
              "    <tr>\n",
              "      <th>...</th>\n",
              "      <td>...</td>\n",
              "      <td>...</td>\n",
              "      <td>...</td>\n",
              "      <td>...</td>\n",
              "      <td>...</td>\n",
              "      <td>...</td>\n",
              "      <td>...</td>\n",
              "      <td>...</td>\n",
              "      <td>...</td>\n",
              "      <td>...</td>\n",
              "      <td>...</td>\n",
              "      <td>...</td>\n",
              "      <td>...</td>\n",
              "      <td>...</td>\n",
              "      <td>...</td>\n",
              "      <td>...</td>\n",
              "      <td>...</td>\n",
              "      <td>...</td>\n",
              "      <td>...</td>\n",
              "      <td>...</td>\n",
              "      <td>...</td>\n",
              "    </tr>\n",
              "    <tr>\n",
              "      <th>3644</th>\n",
              "      <td>Zimbabwe</td>\n",
              "      <td>2016</td>\n",
              "      <td>42.561730</td>\n",
              "      <td>29.8</td>\n",
              "      <td>62.88</td>\n",
              "      <td>30000.0</td>\n",
              "      <td>81.90</td>\n",
              "      <td>3.50</td>\n",
              "      <td>0.0</td>\n",
              "      <td>3.32</td>\n",
              "      <td>...</td>\n",
              "      <td>3227.68020</td>\n",
              "      <td>10.00</td>\n",
              "      <td>11020.000460</td>\n",
              "      <td>NaN</td>\n",
              "      <td>0.755869</td>\n",
              "      <td>1464.588957</td>\n",
              "      <td>38</td>\n",
              "      <td>390757.0</td>\n",
              "      <td>-19.015438</td>\n",
              "      <td>29.154857</td>\n",
              "    </tr>\n",
              "    <tr>\n",
              "      <th>3645</th>\n",
              "      <td>Zimbabwe</td>\n",
              "      <td>2017</td>\n",
              "      <td>44.178635</td>\n",
              "      <td>29.8</td>\n",
              "      <td>62.33</td>\n",
              "      <td>5570000.0</td>\n",
              "      <td>82.46</td>\n",
              "      <td>3.05</td>\n",
              "      <td>0.0</td>\n",
              "      <td>4.30</td>\n",
              "      <td>...</td>\n",
              "      <td>3068.01150</td>\n",
              "      <td>9.51</td>\n",
              "      <td>10340.000150</td>\n",
              "      <td>NaN</td>\n",
              "      <td>4.709492</td>\n",
              "      <td>1235.189032</td>\n",
              "      <td>38</td>\n",
              "      <td>390757.0</td>\n",
              "      <td>-19.015438</td>\n",
              "      <td>29.154857</td>\n",
              "    </tr>\n",
              "    <tr>\n",
              "      <th>3646</th>\n",
              "      <td>Zimbabwe</td>\n",
              "      <td>2018</td>\n",
              "      <td>45.572647</td>\n",
              "      <td>29.9</td>\n",
              "      <td>82.53</td>\n",
              "      <td>10000.0</td>\n",
              "      <td>80.23</td>\n",
              "      <td>3.73</td>\n",
              "      <td>0.0</td>\n",
              "      <td>5.46</td>\n",
              "      <td>...</td>\n",
              "      <td>3441.98580</td>\n",
              "      <td>9.83</td>\n",
              "      <td>12380.000110</td>\n",
              "      <td>NaN</td>\n",
              "      <td>4.824211</td>\n",
              "      <td>1254.642265</td>\n",
              "      <td>38</td>\n",
              "      <td>390757.0</td>\n",
              "      <td>-19.015438</td>\n",
              "      <td>29.154857</td>\n",
              "    </tr>\n",
              "    <tr>\n",
              "      <th>3647</th>\n",
              "      <td>Zimbabwe</td>\n",
              "      <td>2019</td>\n",
              "      <td>46.781475</td>\n",
              "      <td>30.1</td>\n",
              "      <td>81.40</td>\n",
              "      <td>250000.0</td>\n",
              "      <td>81.50</td>\n",
              "      <td>3.66</td>\n",
              "      <td>0.0</td>\n",
              "      <td>4.58</td>\n",
              "      <td>...</td>\n",
              "      <td>3003.65530</td>\n",
              "      <td>10.47</td>\n",
              "      <td>11760.000230</td>\n",
              "      <td>NaN</td>\n",
              "      <td>-6.144236</td>\n",
              "      <td>1316.740657</td>\n",
              "      <td>38</td>\n",
              "      <td>390757.0</td>\n",
              "      <td>-19.015438</td>\n",
              "      <td>29.154857</td>\n",
              "    </tr>\n",
              "    <tr>\n",
              "      <th>3648</th>\n",
              "      <td>Zimbabwe</td>\n",
              "      <td>2020</td>\n",
              "      <td>52.747670</td>\n",
              "      <td>30.4</td>\n",
              "      <td>80.61</td>\n",
              "      <td>30000.0</td>\n",
              "      <td>81.90</td>\n",
              "      <td>3.40</td>\n",
              "      <td>0.0</td>\n",
              "      <td>4.19</td>\n",
              "      <td>...</td>\n",
              "      <td>2680.13180</td>\n",
              "      <td>10.00</td>\n",
              "      <td>NaN</td>\n",
              "      <td>NaN</td>\n",
              "      <td>-6.248748</td>\n",
              "      <td>1214.509820</td>\n",
              "      <td>38</td>\n",
              "      <td>390757.0</td>\n",
              "      <td>-19.015438</td>\n",
              "      <td>29.154857</td>\n",
              "    </tr>\n",
              "  </tbody>\n",
              "</table>\n",
              "<p>3649 rows × 21 columns</p>\n",
              "</div>\n",
              "    <div class=\"colab-df-buttons\">\n",
              "\n",
              "  <div class=\"colab-df-container\">\n",
              "    <button class=\"colab-df-convert\" onclick=\"convertToInteractive('df-ef693746-895c-4968-a4e3-5b7e9924242d')\"\n",
              "            title=\"Convert this dataframe to an interactive table.\"\n",
              "            style=\"display:none;\">\n",
              "\n",
              "  <svg xmlns=\"http://www.w3.org/2000/svg\" height=\"24px\" viewBox=\"0 -960 960 960\">\n",
              "    <path d=\"M120-120v-720h720v720H120Zm60-500h600v-160H180v160Zm220 220h160v-160H400v160Zm0 220h160v-160H400v160ZM180-400h160v-160H180v160Zm440 0h160v-160H620v160ZM180-180h160v-160H180v160Zm440 0h160v-160H620v160Z\"/>\n",
              "  </svg>\n",
              "    </button>\n",
              "\n",
              "  <style>\n",
              "    .colab-df-container {\n",
              "      display:flex;\n",
              "      gap: 12px;\n",
              "    }\n",
              "\n",
              "    .colab-df-convert {\n",
              "      background-color: #E8F0FE;\n",
              "      border: none;\n",
              "      border-radius: 50%;\n",
              "      cursor: pointer;\n",
              "      display: none;\n",
              "      fill: #1967D2;\n",
              "      height: 32px;\n",
              "      padding: 0 0 0 0;\n",
              "      width: 32px;\n",
              "    }\n",
              "\n",
              "    .colab-df-convert:hover {\n",
              "      background-color: #E2EBFA;\n",
              "      box-shadow: 0px 1px 2px rgba(60, 64, 67, 0.3), 0px 1px 3px 1px rgba(60, 64, 67, 0.15);\n",
              "      fill: #174EA6;\n",
              "    }\n",
              "\n",
              "    .colab-df-buttons div {\n",
              "      margin-bottom: 4px;\n",
              "    }\n",
              "\n",
              "    [theme=dark] .colab-df-convert {\n",
              "      background-color: #3B4455;\n",
              "      fill: #D2E3FC;\n",
              "    }\n",
              "\n",
              "    [theme=dark] .colab-df-convert:hover {\n",
              "      background-color: #434B5C;\n",
              "      box-shadow: 0px 1px 3px 1px rgba(0, 0, 0, 0.15);\n",
              "      filter: drop-shadow(0px 1px 2px rgba(0, 0, 0, 0.3));\n",
              "      fill: #FFFFFF;\n",
              "    }\n",
              "  </style>\n",
              "\n",
              "    <script>\n",
              "      const buttonEl =\n",
              "        document.querySelector('#df-ef693746-895c-4968-a4e3-5b7e9924242d button.colab-df-convert');\n",
              "      buttonEl.style.display =\n",
              "        google.colab.kernel.accessAllowed ? 'block' : 'none';\n",
              "\n",
              "      async function convertToInteractive(key) {\n",
              "        const element = document.querySelector('#df-ef693746-895c-4968-a4e3-5b7e9924242d');\n",
              "        const dataTable =\n",
              "          await google.colab.kernel.invokeFunction('convertToInteractive',\n",
              "                                                    [key], {});\n",
              "        if (!dataTable) return;\n",
              "\n",
              "        const docLinkHtml = 'Like what you see? Visit the ' +\n",
              "          '<a target=\"_blank\" href=https://colab.research.google.com/notebooks/data_table.ipynb>data table notebook</a>'\n",
              "          + ' to learn more about interactive tables.';\n",
              "        element.innerHTML = '';\n",
              "        dataTable['output_type'] = 'display_data';\n",
              "        await google.colab.output.renderOutput(dataTable, element);\n",
              "        const docLink = document.createElement('div');\n",
              "        docLink.innerHTML = docLinkHtml;\n",
              "        element.appendChild(docLink);\n",
              "      }\n",
              "    </script>\n",
              "  </div>\n",
              "\n",
              "\n",
              "<div id=\"df-451649bf-46bf-4535-a885-9b843fc6ef99\">\n",
              "  <button class=\"colab-df-quickchart\" onclick=\"quickchart('df-451649bf-46bf-4535-a885-9b843fc6ef99')\"\n",
              "            title=\"Suggest charts.\"\n",
              "            style=\"display:none;\">\n",
              "\n",
              "<svg xmlns=\"http://www.w3.org/2000/svg\" height=\"24px\"viewBox=\"0 0 24 24\"\n",
              "     width=\"24px\">\n",
              "    <g>\n",
              "        <path d=\"M19 3H5c-1.1 0-2 .9-2 2v14c0 1.1.9 2 2 2h14c1.1 0 2-.9 2-2V5c0-1.1-.9-2-2-2zM9 17H7v-7h2v7zm4 0h-2V7h2v10zm4 0h-2v-4h2v4z\"/>\n",
              "    </g>\n",
              "</svg>\n",
              "  </button>\n",
              "\n",
              "<style>\n",
              "  .colab-df-quickchart {\n",
              "      --bg-color: #E8F0FE;\n",
              "      --fill-color: #1967D2;\n",
              "      --hover-bg-color: #E2EBFA;\n",
              "      --hover-fill-color: #174EA6;\n",
              "      --disabled-fill-color: #AAA;\n",
              "      --disabled-bg-color: #DDD;\n",
              "  }\n",
              "\n",
              "  [theme=dark] .colab-df-quickchart {\n",
              "      --bg-color: #3B4455;\n",
              "      --fill-color: #D2E3FC;\n",
              "      --hover-bg-color: #434B5C;\n",
              "      --hover-fill-color: #FFFFFF;\n",
              "      --disabled-bg-color: #3B4455;\n",
              "      --disabled-fill-color: #666;\n",
              "  }\n",
              "\n",
              "  .colab-df-quickchart {\n",
              "    background-color: var(--bg-color);\n",
              "    border: none;\n",
              "    border-radius: 50%;\n",
              "    cursor: pointer;\n",
              "    display: none;\n",
              "    fill: var(--fill-color);\n",
              "    height: 32px;\n",
              "    padding: 0;\n",
              "    width: 32px;\n",
              "  }\n",
              "\n",
              "  .colab-df-quickchart:hover {\n",
              "    background-color: var(--hover-bg-color);\n",
              "    box-shadow: 0 1px 2px rgba(60, 64, 67, 0.3), 0 1px 3px 1px rgba(60, 64, 67, 0.15);\n",
              "    fill: var(--button-hover-fill-color);\n",
              "  }\n",
              "\n",
              "  .colab-df-quickchart-complete:disabled,\n",
              "  .colab-df-quickchart-complete:disabled:hover {\n",
              "    background-color: var(--disabled-bg-color);\n",
              "    fill: var(--disabled-fill-color);\n",
              "    box-shadow: none;\n",
              "  }\n",
              "\n",
              "  .colab-df-spinner {\n",
              "    border: 2px solid var(--fill-color);\n",
              "    border-color: transparent;\n",
              "    border-bottom-color: var(--fill-color);\n",
              "    animation:\n",
              "      spin 1s steps(1) infinite;\n",
              "  }\n",
              "\n",
              "  @keyframes spin {\n",
              "    0% {\n",
              "      border-color: transparent;\n",
              "      border-bottom-color: var(--fill-color);\n",
              "      border-left-color: var(--fill-color);\n",
              "    }\n",
              "    20% {\n",
              "      border-color: transparent;\n",
              "      border-left-color: var(--fill-color);\n",
              "      border-top-color: var(--fill-color);\n",
              "    }\n",
              "    30% {\n",
              "      border-color: transparent;\n",
              "      border-left-color: var(--fill-color);\n",
              "      border-top-color: var(--fill-color);\n",
              "      border-right-color: var(--fill-color);\n",
              "    }\n",
              "    40% {\n",
              "      border-color: transparent;\n",
              "      border-right-color: var(--fill-color);\n",
              "      border-top-color: var(--fill-color);\n",
              "    }\n",
              "    60% {\n",
              "      border-color: transparent;\n",
              "      border-right-color: var(--fill-color);\n",
              "    }\n",
              "    80% {\n",
              "      border-color: transparent;\n",
              "      border-right-color: var(--fill-color);\n",
              "      border-bottom-color: var(--fill-color);\n",
              "    }\n",
              "    90% {\n",
              "      border-color: transparent;\n",
              "      border-bottom-color: var(--fill-color);\n",
              "    }\n",
              "  }\n",
              "</style>\n",
              "\n",
              "  <script>\n",
              "    async function quickchart(key) {\n",
              "      const quickchartButtonEl =\n",
              "        document.querySelector('#' + key + ' button');\n",
              "      quickchartButtonEl.disabled = true;  // To prevent multiple clicks.\n",
              "      quickchartButtonEl.classList.add('colab-df-spinner');\n",
              "      try {\n",
              "        const charts = await google.colab.kernel.invokeFunction(\n",
              "            'suggestCharts', [key], {});\n",
              "      } catch (error) {\n",
              "        console.error('Error during call to suggestCharts:', error);\n",
              "      }\n",
              "      quickchartButtonEl.classList.remove('colab-df-spinner');\n",
              "      quickchartButtonEl.classList.add('colab-df-quickchart-complete');\n",
              "    }\n",
              "    (() => {\n",
              "      let quickchartButtonEl =\n",
              "        document.querySelector('#df-451649bf-46bf-4535-a885-9b843fc6ef99 button');\n",
              "      quickchartButtonEl.style.display =\n",
              "        google.colab.kernel.accessAllowed ? 'block' : 'none';\n",
              "    })();\n",
              "  </script>\n",
              "</div>\n",
              "    </div>\n",
              "  </div>\n"
            ]
          },
          "metadata": {},
          "execution_count": 18
        }
      ]
    },
    {
      "cell_type": "code",
      "source": [
        "describe =  df.describe()\n",
        "describe"
      ],
      "metadata": {
        "id": "u3OeTGcGp2sY",
        "outputId": "05e90b60-9d56-4d7b-f336-179f357ad6b7",
        "colab": {
          "base_uri": "https://localhost:8080/",
          "height": 442
        }
      },
      "execution_count": 19,
      "outputs": [
        {
          "output_type": "execute_result",
          "data": {
            "text/plain": [
              "              Year  Access to electricity (% of population)  \\\n",
              "count  3649.000000                              3639.000000   \n",
              "mean   2010.038367                                78.933702   \n",
              "std       6.054228                                30.275541   \n",
              "min    2000.000000                                 1.252269   \n",
              "25%    2005.000000                                59.800890   \n",
              "50%    2010.000000                                98.361570   \n",
              "75%    2015.000000                               100.000000   \n",
              "max    2020.000000                               100.000000   \n",
              "\n",
              "       Access to clean fuels for cooking  \\\n",
              "count                        3480.000000   \n",
              "mean                           63.255287   \n",
              "std                            39.043658   \n",
              "min                             0.000000   \n",
              "25%                            23.175000   \n",
              "50%                            83.150000   \n",
              "75%                           100.000000   \n",
              "max                           100.000000   \n",
              "\n",
              "       Renewable-electricity-generating-capacity-per-capita  \\\n",
              "count                                        2718.000000      \n",
              "mean                                          113.137498      \n",
              "std                                           244.167256      \n",
              "min                                             0.000000      \n",
              "25%                                             3.540000      \n",
              "50%                                            32.910000      \n",
              "75%                                           112.210000      \n",
              "max                                          3060.190000      \n",
              "\n",
              "       Financial flows to developing countries (US $)  \\\n",
              "count                                    1.560000e+03   \n",
              "mean                                     9.422400e+07   \n",
              "std                                      2.981544e+08   \n",
              "min                                      0.000000e+00   \n",
              "25%                                      2.600000e+05   \n",
              "50%                                      5.665000e+06   \n",
              "75%                                      5.534750e+07   \n",
              "max                                      5.202310e+09   \n",
              "\n",
              "       Renewable energy share in the total final energy consumption (%)  \\\n",
              "count                                        3455.000000                  \n",
              "mean                                           32.638165                  \n",
              "std                                            29.894901                  \n",
              "min                                             0.000000                  \n",
              "25%                                             6.515000                  \n",
              "50%                                            23.300000                  \n",
              "75%                                            55.245000                  \n",
              "max                                            96.040000                  \n",
              "\n",
              "       Electricity from fossil fuels (TWh)  Electricity from nuclear (TWh)  \\\n",
              "count                          3628.000000                     3523.000000   \n",
              "mean                             70.365003                       13.450190   \n",
              "std                             348.051866                       73.006623   \n",
              "min                               0.000000                        0.000000   \n",
              "25%                               0.290000                        0.000000   \n",
              "50%                               2.970000                        0.000000   \n",
              "75%                              26.837500                        0.000000   \n",
              "max                            5184.130000                      809.410000   \n",
              "\n",
              "       Electricity from renewables (TWh)  \\\n",
              "count                        3628.000000   \n",
              "mean                           23.968010   \n",
              "std                           104.431085   \n",
              "min                             0.000000   \n",
              "25%                             0.040000   \n",
              "50%                             1.470000   \n",
              "75%                             9.600000   \n",
              "max                          2184.940000   \n",
              "\n",
              "       Low-carbon electricity (% electricity)  \\\n",
              "count                             3607.000000   \n",
              "mean                                36.801182   \n",
              "std                                 34.314884   \n",
              "min                                  0.000000   \n",
              "25%                                  2.877847   \n",
              "50%                                 27.865068   \n",
              "75%                                 64.403792   \n",
              "max                                100.000010   \n",
              "\n",
              "       Primary energy consumption per capita (kWh/person)  \\\n",
              "count                                        3649.000000    \n",
              "mean                                        25743.981745    \n",
              "std                                         34773.221366    \n",
              "min                                             0.000000    \n",
              "25%                                          3116.737300    \n",
              "50%                                         13120.570000    \n",
              "75%                                         33892.780000    \n",
              "max                                        262585.700000    \n",
              "\n",
              "       Energy intensity level of primary energy (MJ/$2017 PPP GDP)  \\\n",
              "count                                        3442.000000             \n",
              "mean                                            5.307345             \n",
              "std                                             3.532020             \n",
              "min                                             0.110000             \n",
              "25%                                             3.170000             \n",
              "50%                                             4.300000             \n",
              "75%                                             6.027500             \n",
              "max                                            32.570000             \n",
              "\n",
              "       Value_co2_emissions_kt_by_country  \\\n",
              "count                       3.221000e+03   \n",
              "mean                        1.598665e+05   \n",
              "std                         7.736611e+05   \n",
              "min                         1.000000e+01   \n",
              "25%                         2.020000e+03   \n",
              "50%                         1.050000e+04   \n",
              "75%                         6.058000e+04   \n",
              "max                         1.070722e+07   \n",
              "\n",
              "       Renewables (% equivalent primary energy)   gdp_growth  gdp_per_capita  \\\n",
              "count                               1512.000000  3332.000000     3367.000000   \n",
              "mean                                  11.986707     3.441610    13283.774348   \n",
              "std                                   14.994644     5.686720    19709.866716   \n",
              "min                                    0.000000   -62.075920      111.927225   \n",
              "25%                                    2.137095     1.383302     1337.813437   \n",
              "50%                                    6.290766     3.559855     4578.633208   \n",
              "75%                                   16.841638     5.830099    15768.615365   \n",
              "max                                   86.836586   123.139555   123514.196700   \n",
              "\n",
              "       Land Area(Km2)     Latitude    Longitude  \n",
              "count    3.648000e+03  3648.000000  3648.000000  \n",
              "mean     6.332135e+05    18.246388    14.822695  \n",
              "std      1.585519e+06    24.159232    66.348148  \n",
              "min      2.100000e+01   -40.900557  -175.198242  \n",
              "25%      2.571300e+04     3.202778   -11.779889  \n",
              "50%      1.176000e+05    17.189877    19.145136  \n",
              "75%      5.131200e+05    38.969719    46.199616  \n",
              "max      9.984670e+06    64.963051   178.065032  "
            ],
            "text/html": [
              "\n",
              "  <div id=\"df-b6c303a4-07c7-49cd-894a-e049938c7fa3\" class=\"colab-df-container\">\n",
              "    <div>\n",
              "<style scoped>\n",
              "    .dataframe tbody tr th:only-of-type {\n",
              "        vertical-align: middle;\n",
              "    }\n",
              "\n",
              "    .dataframe tbody tr th {\n",
              "        vertical-align: top;\n",
              "    }\n",
              "\n",
              "    .dataframe thead th {\n",
              "        text-align: right;\n",
              "    }\n",
              "</style>\n",
              "<table border=\"1\" class=\"dataframe\">\n",
              "  <thead>\n",
              "    <tr style=\"text-align: right;\">\n",
              "      <th></th>\n",
              "      <th>Year</th>\n",
              "      <th>Access to electricity (% of population)</th>\n",
              "      <th>Access to clean fuels for cooking</th>\n",
              "      <th>Renewable-electricity-generating-capacity-per-capita</th>\n",
              "      <th>Financial flows to developing countries (US $)</th>\n",
              "      <th>Renewable energy share in the total final energy consumption (%)</th>\n",
              "      <th>Electricity from fossil fuels (TWh)</th>\n",
              "      <th>Electricity from nuclear (TWh)</th>\n",
              "      <th>Electricity from renewables (TWh)</th>\n",
              "      <th>Low-carbon electricity (% electricity)</th>\n",
              "      <th>Primary energy consumption per capita (kWh/person)</th>\n",
              "      <th>Energy intensity level of primary energy (MJ/$2017 PPP GDP)</th>\n",
              "      <th>Value_co2_emissions_kt_by_country</th>\n",
              "      <th>Renewables (% equivalent primary energy)</th>\n",
              "      <th>gdp_growth</th>\n",
              "      <th>gdp_per_capita</th>\n",
              "      <th>Land Area(Km2)</th>\n",
              "      <th>Latitude</th>\n",
              "      <th>Longitude</th>\n",
              "    </tr>\n",
              "  </thead>\n",
              "  <tbody>\n",
              "    <tr>\n",
              "      <th>count</th>\n",
              "      <td>3649.000000</td>\n",
              "      <td>3639.000000</td>\n",
              "      <td>3480.000000</td>\n",
              "      <td>2718.000000</td>\n",
              "      <td>1.560000e+03</td>\n",
              "      <td>3455.000000</td>\n",
              "      <td>3628.000000</td>\n",
              "      <td>3523.000000</td>\n",
              "      <td>3628.000000</td>\n",
              "      <td>3607.000000</td>\n",
              "      <td>3649.000000</td>\n",
              "      <td>3442.000000</td>\n",
              "      <td>3.221000e+03</td>\n",
              "      <td>1512.000000</td>\n",
              "      <td>3332.000000</td>\n",
              "      <td>3367.000000</td>\n",
              "      <td>3.648000e+03</td>\n",
              "      <td>3648.000000</td>\n",
              "      <td>3648.000000</td>\n",
              "    </tr>\n",
              "    <tr>\n",
              "      <th>mean</th>\n",
              "      <td>2010.038367</td>\n",
              "      <td>78.933702</td>\n",
              "      <td>63.255287</td>\n",
              "      <td>113.137498</td>\n",
              "      <td>9.422400e+07</td>\n",
              "      <td>32.638165</td>\n",
              "      <td>70.365003</td>\n",
              "      <td>13.450190</td>\n",
              "      <td>23.968010</td>\n",
              "      <td>36.801182</td>\n",
              "      <td>25743.981745</td>\n",
              "      <td>5.307345</td>\n",
              "      <td>1.598665e+05</td>\n",
              "      <td>11.986707</td>\n",
              "      <td>3.441610</td>\n",
              "      <td>13283.774348</td>\n",
              "      <td>6.332135e+05</td>\n",
              "      <td>18.246388</td>\n",
              "      <td>14.822695</td>\n",
              "    </tr>\n",
              "    <tr>\n",
              "      <th>std</th>\n",
              "      <td>6.054228</td>\n",
              "      <td>30.275541</td>\n",
              "      <td>39.043658</td>\n",
              "      <td>244.167256</td>\n",
              "      <td>2.981544e+08</td>\n",
              "      <td>29.894901</td>\n",
              "      <td>348.051866</td>\n",
              "      <td>73.006623</td>\n",
              "      <td>104.431085</td>\n",
              "      <td>34.314884</td>\n",
              "      <td>34773.221366</td>\n",
              "      <td>3.532020</td>\n",
              "      <td>7.736611e+05</td>\n",
              "      <td>14.994644</td>\n",
              "      <td>5.686720</td>\n",
              "      <td>19709.866716</td>\n",
              "      <td>1.585519e+06</td>\n",
              "      <td>24.159232</td>\n",
              "      <td>66.348148</td>\n",
              "    </tr>\n",
              "    <tr>\n",
              "      <th>min</th>\n",
              "      <td>2000.000000</td>\n",
              "      <td>1.252269</td>\n",
              "      <td>0.000000</td>\n",
              "      <td>0.000000</td>\n",
              "      <td>0.000000e+00</td>\n",
              "      <td>0.000000</td>\n",
              "      <td>0.000000</td>\n",
              "      <td>0.000000</td>\n",
              "      <td>0.000000</td>\n",
              "      <td>0.000000</td>\n",
              "      <td>0.000000</td>\n",
              "      <td>0.110000</td>\n",
              "      <td>1.000000e+01</td>\n",
              "      <td>0.000000</td>\n",
              "      <td>-62.075920</td>\n",
              "      <td>111.927225</td>\n",
              "      <td>2.100000e+01</td>\n",
              "      <td>-40.900557</td>\n",
              "      <td>-175.198242</td>\n",
              "    </tr>\n",
              "    <tr>\n",
              "      <th>25%</th>\n",
              "      <td>2005.000000</td>\n",
              "      <td>59.800890</td>\n",
              "      <td>23.175000</td>\n",
              "      <td>3.540000</td>\n",
              "      <td>2.600000e+05</td>\n",
              "      <td>6.515000</td>\n",
              "      <td>0.290000</td>\n",
              "      <td>0.000000</td>\n",
              "      <td>0.040000</td>\n",
              "      <td>2.877847</td>\n",
              "      <td>3116.737300</td>\n",
              "      <td>3.170000</td>\n",
              "      <td>2.020000e+03</td>\n",
              "      <td>2.137095</td>\n",
              "      <td>1.383302</td>\n",
              "      <td>1337.813437</td>\n",
              "      <td>2.571300e+04</td>\n",
              "      <td>3.202778</td>\n",
              "      <td>-11.779889</td>\n",
              "    </tr>\n",
              "    <tr>\n",
              "      <th>50%</th>\n",
              "      <td>2010.000000</td>\n",
              "      <td>98.361570</td>\n",
              "      <td>83.150000</td>\n",
              "      <td>32.910000</td>\n",
              "      <td>5.665000e+06</td>\n",
              "      <td>23.300000</td>\n",
              "      <td>2.970000</td>\n",
              "      <td>0.000000</td>\n",
              "      <td>1.470000</td>\n",
              "      <td>27.865068</td>\n",
              "      <td>13120.570000</td>\n",
              "      <td>4.300000</td>\n",
              "      <td>1.050000e+04</td>\n",
              "      <td>6.290766</td>\n",
              "      <td>3.559855</td>\n",
              "      <td>4578.633208</td>\n",
              "      <td>1.176000e+05</td>\n",
              "      <td>17.189877</td>\n",
              "      <td>19.145136</td>\n",
              "    </tr>\n",
              "    <tr>\n",
              "      <th>75%</th>\n",
              "      <td>2015.000000</td>\n",
              "      <td>100.000000</td>\n",
              "      <td>100.000000</td>\n",
              "      <td>112.210000</td>\n",
              "      <td>5.534750e+07</td>\n",
              "      <td>55.245000</td>\n",
              "      <td>26.837500</td>\n",
              "      <td>0.000000</td>\n",
              "      <td>9.600000</td>\n",
              "      <td>64.403792</td>\n",
              "      <td>33892.780000</td>\n",
              "      <td>6.027500</td>\n",
              "      <td>6.058000e+04</td>\n",
              "      <td>16.841638</td>\n",
              "      <td>5.830099</td>\n",
              "      <td>15768.615365</td>\n",
              "      <td>5.131200e+05</td>\n",
              "      <td>38.969719</td>\n",
              "      <td>46.199616</td>\n",
              "    </tr>\n",
              "    <tr>\n",
              "      <th>max</th>\n",
              "      <td>2020.000000</td>\n",
              "      <td>100.000000</td>\n",
              "      <td>100.000000</td>\n",
              "      <td>3060.190000</td>\n",
              "      <td>5.202310e+09</td>\n",
              "      <td>96.040000</td>\n",
              "      <td>5184.130000</td>\n",
              "      <td>809.410000</td>\n",
              "      <td>2184.940000</td>\n",
              "      <td>100.000010</td>\n",
              "      <td>262585.700000</td>\n",
              "      <td>32.570000</td>\n",
              "      <td>1.070722e+07</td>\n",
              "      <td>86.836586</td>\n",
              "      <td>123.139555</td>\n",
              "      <td>123514.196700</td>\n",
              "      <td>9.984670e+06</td>\n",
              "      <td>64.963051</td>\n",
              "      <td>178.065032</td>\n",
              "    </tr>\n",
              "  </tbody>\n",
              "</table>\n",
              "</div>\n",
              "    <div class=\"colab-df-buttons\">\n",
              "\n",
              "  <div class=\"colab-df-container\">\n",
              "    <button class=\"colab-df-convert\" onclick=\"convertToInteractive('df-b6c303a4-07c7-49cd-894a-e049938c7fa3')\"\n",
              "            title=\"Convert this dataframe to an interactive table.\"\n",
              "            style=\"display:none;\">\n",
              "\n",
              "  <svg xmlns=\"http://www.w3.org/2000/svg\" height=\"24px\" viewBox=\"0 -960 960 960\">\n",
              "    <path d=\"M120-120v-720h720v720H120Zm60-500h600v-160H180v160Zm220 220h160v-160H400v160Zm0 220h160v-160H400v160ZM180-400h160v-160H180v160Zm440 0h160v-160H620v160ZM180-180h160v-160H180v160Zm440 0h160v-160H620v160Z\"/>\n",
              "  </svg>\n",
              "    </button>\n",
              "\n",
              "  <style>\n",
              "    .colab-df-container {\n",
              "      display:flex;\n",
              "      gap: 12px;\n",
              "    }\n",
              "\n",
              "    .colab-df-convert {\n",
              "      background-color: #E8F0FE;\n",
              "      border: none;\n",
              "      border-radius: 50%;\n",
              "      cursor: pointer;\n",
              "      display: none;\n",
              "      fill: #1967D2;\n",
              "      height: 32px;\n",
              "      padding: 0 0 0 0;\n",
              "      width: 32px;\n",
              "    }\n",
              "\n",
              "    .colab-df-convert:hover {\n",
              "      background-color: #E2EBFA;\n",
              "      box-shadow: 0px 1px 2px rgba(60, 64, 67, 0.3), 0px 1px 3px 1px rgba(60, 64, 67, 0.15);\n",
              "      fill: #174EA6;\n",
              "    }\n",
              "\n",
              "    .colab-df-buttons div {\n",
              "      margin-bottom: 4px;\n",
              "    }\n",
              "\n",
              "    [theme=dark] .colab-df-convert {\n",
              "      background-color: #3B4455;\n",
              "      fill: #D2E3FC;\n",
              "    }\n",
              "\n",
              "    [theme=dark] .colab-df-convert:hover {\n",
              "      background-color: #434B5C;\n",
              "      box-shadow: 0px 1px 3px 1px rgba(0, 0, 0, 0.15);\n",
              "      filter: drop-shadow(0px 1px 2px rgba(0, 0, 0, 0.3));\n",
              "      fill: #FFFFFF;\n",
              "    }\n",
              "  </style>\n",
              "\n",
              "    <script>\n",
              "      const buttonEl =\n",
              "        document.querySelector('#df-b6c303a4-07c7-49cd-894a-e049938c7fa3 button.colab-df-convert');\n",
              "      buttonEl.style.display =\n",
              "        google.colab.kernel.accessAllowed ? 'block' : 'none';\n",
              "\n",
              "      async function convertToInteractive(key) {\n",
              "        const element = document.querySelector('#df-b6c303a4-07c7-49cd-894a-e049938c7fa3');\n",
              "        const dataTable =\n",
              "          await google.colab.kernel.invokeFunction('convertToInteractive',\n",
              "                                                    [key], {});\n",
              "        if (!dataTable) return;\n",
              "\n",
              "        const docLinkHtml = 'Like what you see? Visit the ' +\n",
              "          '<a target=\"_blank\" href=https://colab.research.google.com/notebooks/data_table.ipynb>data table notebook</a>'\n",
              "          + ' to learn more about interactive tables.';\n",
              "        element.innerHTML = '';\n",
              "        dataTable['output_type'] = 'display_data';\n",
              "        await google.colab.output.renderOutput(dataTable, element);\n",
              "        const docLink = document.createElement('div');\n",
              "        docLink.innerHTML = docLinkHtml;\n",
              "        element.appendChild(docLink);\n",
              "      }\n",
              "    </script>\n",
              "  </div>\n",
              "\n",
              "\n",
              "<div id=\"df-8f315f19-f18d-422f-8835-097352c86e94\">\n",
              "  <button class=\"colab-df-quickchart\" onclick=\"quickchart('df-8f315f19-f18d-422f-8835-097352c86e94')\"\n",
              "            title=\"Suggest charts.\"\n",
              "            style=\"display:none;\">\n",
              "\n",
              "<svg xmlns=\"http://www.w3.org/2000/svg\" height=\"24px\"viewBox=\"0 0 24 24\"\n",
              "     width=\"24px\">\n",
              "    <g>\n",
              "        <path d=\"M19 3H5c-1.1 0-2 .9-2 2v14c0 1.1.9 2 2 2h14c1.1 0 2-.9 2-2V5c0-1.1-.9-2-2-2zM9 17H7v-7h2v7zm4 0h-2V7h2v10zm4 0h-2v-4h2v4z\"/>\n",
              "    </g>\n",
              "</svg>\n",
              "  </button>\n",
              "\n",
              "<style>\n",
              "  .colab-df-quickchart {\n",
              "      --bg-color: #E8F0FE;\n",
              "      --fill-color: #1967D2;\n",
              "      --hover-bg-color: #E2EBFA;\n",
              "      --hover-fill-color: #174EA6;\n",
              "      --disabled-fill-color: #AAA;\n",
              "      --disabled-bg-color: #DDD;\n",
              "  }\n",
              "\n",
              "  [theme=dark] .colab-df-quickchart {\n",
              "      --bg-color: #3B4455;\n",
              "      --fill-color: #D2E3FC;\n",
              "      --hover-bg-color: #434B5C;\n",
              "      --hover-fill-color: #FFFFFF;\n",
              "      --disabled-bg-color: #3B4455;\n",
              "      --disabled-fill-color: #666;\n",
              "  }\n",
              "\n",
              "  .colab-df-quickchart {\n",
              "    background-color: var(--bg-color);\n",
              "    border: none;\n",
              "    border-radius: 50%;\n",
              "    cursor: pointer;\n",
              "    display: none;\n",
              "    fill: var(--fill-color);\n",
              "    height: 32px;\n",
              "    padding: 0;\n",
              "    width: 32px;\n",
              "  }\n",
              "\n",
              "  .colab-df-quickchart:hover {\n",
              "    background-color: var(--hover-bg-color);\n",
              "    box-shadow: 0 1px 2px rgba(60, 64, 67, 0.3), 0 1px 3px 1px rgba(60, 64, 67, 0.15);\n",
              "    fill: var(--button-hover-fill-color);\n",
              "  }\n",
              "\n",
              "  .colab-df-quickchart-complete:disabled,\n",
              "  .colab-df-quickchart-complete:disabled:hover {\n",
              "    background-color: var(--disabled-bg-color);\n",
              "    fill: var(--disabled-fill-color);\n",
              "    box-shadow: none;\n",
              "  }\n",
              "\n",
              "  .colab-df-spinner {\n",
              "    border: 2px solid var(--fill-color);\n",
              "    border-color: transparent;\n",
              "    border-bottom-color: var(--fill-color);\n",
              "    animation:\n",
              "      spin 1s steps(1) infinite;\n",
              "  }\n",
              "\n",
              "  @keyframes spin {\n",
              "    0% {\n",
              "      border-color: transparent;\n",
              "      border-bottom-color: var(--fill-color);\n",
              "      border-left-color: var(--fill-color);\n",
              "    }\n",
              "    20% {\n",
              "      border-color: transparent;\n",
              "      border-left-color: var(--fill-color);\n",
              "      border-top-color: var(--fill-color);\n",
              "    }\n",
              "    30% {\n",
              "      border-color: transparent;\n",
              "      border-left-color: var(--fill-color);\n",
              "      border-top-color: var(--fill-color);\n",
              "      border-right-color: var(--fill-color);\n",
              "    }\n",
              "    40% {\n",
              "      border-color: transparent;\n",
              "      border-right-color: var(--fill-color);\n",
              "      border-top-color: var(--fill-color);\n",
              "    }\n",
              "    60% {\n",
              "      border-color: transparent;\n",
              "      border-right-color: var(--fill-color);\n",
              "    }\n",
              "    80% {\n",
              "      border-color: transparent;\n",
              "      border-right-color: var(--fill-color);\n",
              "      border-bottom-color: var(--fill-color);\n",
              "    }\n",
              "    90% {\n",
              "      border-color: transparent;\n",
              "      border-bottom-color: var(--fill-color);\n",
              "    }\n",
              "  }\n",
              "</style>\n",
              "\n",
              "  <script>\n",
              "    async function quickchart(key) {\n",
              "      const quickchartButtonEl =\n",
              "        document.querySelector('#' + key + ' button');\n",
              "      quickchartButtonEl.disabled = true;  // To prevent multiple clicks.\n",
              "      quickchartButtonEl.classList.add('colab-df-spinner');\n",
              "      try {\n",
              "        const charts = await google.colab.kernel.invokeFunction(\n",
              "            'suggestCharts', [key], {});\n",
              "      } catch (error) {\n",
              "        console.error('Error during call to suggestCharts:', error);\n",
              "      }\n",
              "      quickchartButtonEl.classList.remove('colab-df-spinner');\n",
              "      quickchartButtonEl.classList.add('colab-df-quickchart-complete');\n",
              "    }\n",
              "    (() => {\n",
              "      let quickchartButtonEl =\n",
              "        document.querySelector('#df-8f315f19-f18d-422f-8835-097352c86e94 button');\n",
              "      quickchartButtonEl.style.display =\n",
              "        google.colab.kernel.accessAllowed ? 'block' : 'none';\n",
              "    })();\n",
              "  </script>\n",
              "</div>\n",
              "    </div>\n",
              "  </div>\n"
            ]
          },
          "metadata": {},
          "execution_count": 19
        }
      ]
    },
    {
      "cell_type": "code",
      "source": [
        "mean = df['Access to electricity (% of population)'].mean()\n",
        "mean"
      ],
      "metadata": {
        "id": "ud5DMETOU8hS",
        "outputId": "d5a85985-e695-4b55-bd25-cf2c48faf03e",
        "colab": {
          "base_uri": "https://localhost:8080/"
        }
      },
      "execution_count": 31,
      "outputs": [
        {
          "output_type": "execute_result",
          "data": {
            "text/plain": [
              "78.93370216207748"
            ]
          },
          "metadata": {},
          "execution_count": 31
        }
      ]
    },
    {
      "cell_type": "code",
      "source": [
        "median = df['Access to electricity (% of population)'].median()\n",
        "median"
      ],
      "metadata": {
        "id": "TVB8P3FDVwxM",
        "outputId": "bb9cfa6b-a5fd-4427-a0f9-23aa46584396",
        "colab": {
          "base_uri": "https://localhost:8080/"
        }
      },
      "execution_count": 30,
      "outputs": [
        {
          "output_type": "execute_result",
          "data": {
            "text/plain": [
              "98.36157"
            ]
          },
          "metadata": {},
          "execution_count": 30
        }
      ]
    },
    {
      "cell_type": "code",
      "source": [
        "mode = df['Access to electricity (% of population)'].mode()\n",
        "mode"
      ],
      "metadata": {
        "id": "0xHCgiXCVyhs",
        "outputId": "a577f269-ce2c-4468-ceb4-35549d09ddfa",
        "colab": {
          "base_uri": "https://localhost:8080/"
        }
      },
      "execution_count": 28,
      "outputs": [
        {
          "output_type": "execute_result",
          "data": {
            "text/plain": [
              "0    100.0\n",
              "Name: Access to electricity (% of population), dtype: float64"
            ]
          },
          "metadata": {},
          "execution_count": 28
        }
      ]
    },
    {
      "cell_type": "code",
      "source": [
        "min = df['Access to electricity (% of population)'].min()\n",
        "min"
      ],
      "metadata": {
        "id": "HprClRfXVzxW",
        "outputId": "566c0edb-4b56-4d01-bcf2-1bcece768414",
        "colab": {
          "base_uri": "https://localhost:8080/"
        }
      },
      "execution_count": 29,
      "outputs": [
        {
          "output_type": "execute_result",
          "data": {
            "text/plain": [
              "1.2522693"
            ]
          },
          "metadata": {},
          "execution_count": 29
        }
      ]
    },
    {
      "cell_type": "code",
      "source": [
        "max = df['Access to electricity (% of population)'].max()\n",
        "max"
      ],
      "metadata": {
        "id": "sA2gR7IAV1k3",
        "outputId": "dd051f5a-40e9-4f2e-c69f-d30218029e45",
        "colab": {
          "base_uri": "https://localhost:8080/"
        }
      },
      "execution_count": 32,
      "outputs": [
        {
          "output_type": "execute_result",
          "data": {
            "text/plain": [
              "100.0"
            ]
          },
          "metadata": {},
          "execution_count": 32
        }
      ]
    },
    {
      "cell_type": "code",
      "source": [
        "std = df['Access to electricity (% of population)'].std()\n",
        "std"
      ],
      "metadata": {
        "id": "BWeXHW3Vovz4",
        "outputId": "052f015e-32af-4a07-91b0-e71b4a8eea9a",
        "colab": {
          "base_uri": "https://localhost:8080/"
        }
      },
      "execution_count": 33,
      "outputs": [
        {
          "output_type": "execute_result",
          "data": {
            "text/plain": [
              "30.27554143374901"
            ]
          },
          "metadata": {},
          "execution_count": 33
        }
      ]
    },
    {
      "cell_type": "code",
      "source": [],
      "metadata": {
        "id": "L_uJDgeVx0QL"
      },
      "execution_count": null,
      "outputs": []
    },
    {
      "cell_type": "markdown",
      "source": [
        "Вычислите следующие квантили: 25%, 50% (медиана), 75% для числового признака вашего датасета. Затем найдите интерквартильный размах."
      ],
      "metadata": {
        "id": "dZEVd9QIVMyV"
      }
    },
    {
      "cell_type": "code",
      "source": [
        "q1 = df['Access to electricity (% of population)'].quantile(0.25)\n",
        "q1"
      ],
      "metadata": {
        "id": "2UMcBq9dVbVE",
        "outputId": "22e92fb0-fa96-40e9-8982-2acef13bd6c9",
        "colab": {
          "base_uri": "https://localhost:8080/"
        }
      },
      "execution_count": 34,
      "outputs": [
        {
          "output_type": "execute_result",
          "data": {
            "text/plain": [
              "59.800889999999995"
            ]
          },
          "metadata": {},
          "execution_count": 34
        }
      ]
    },
    {
      "cell_type": "code",
      "source": [
        "q2 = df['Access to electricity (% of population)'].quantile(0.50)\n",
        "q2"
      ],
      "metadata": {
        "id": "8joJvKduWJsC",
        "outputId": "ae217c63-da7f-4673-f023-80e1c36b20e8",
        "colab": {
          "base_uri": "https://localhost:8080/"
        }
      },
      "execution_count": 35,
      "outputs": [
        {
          "output_type": "execute_result",
          "data": {
            "text/plain": [
              "98.36157"
            ]
          },
          "metadata": {},
          "execution_count": 35
        }
      ]
    },
    {
      "cell_type": "code",
      "source": [
        "q3 = df['Access to electricity (% of population)'].quantile(0.75)\n",
        "q3"
      ],
      "metadata": {
        "id": "pQTQqM3GWLOV",
        "outputId": "7ee41608-0be0-47fb-ebba-90aa26496fb7",
        "colab": {
          "base_uri": "https://localhost:8080/"
        }
      },
      "execution_count": 36,
      "outputs": [
        {
          "output_type": "execute_result",
          "data": {
            "text/plain": [
              "100.0"
            ]
          },
          "metadata": {},
          "execution_count": 36
        }
      ]
    },
    {
      "cell_type": "markdown",
      "source": [],
      "metadata": {
        "id": "SAW8DnnK9kCL"
      }
    },
    {
      "cell_type": "code",
      "source": [
        "iqr = q3 - q1\n",
        "iqr"
      ],
      "metadata": {
        "id": "lAwZHIbfWMmH",
        "outputId": "8c27c0a0-16d4-47f2-b030-6cad86f5a8ec",
        "colab": {
          "base_uri": "https://localhost:8080/"
        }
      },
      "execution_count": 37,
      "outputs": [
        {
          "output_type": "execute_result",
          "data": {
            "text/plain": [
              "40.199110000000005"
            ]
          },
          "metadata": {},
          "execution_count": 37
        }
      ]
    },
    {
      "cell_type": "markdown",
      "source": [
        "Какие выводы можно сделать исходя из полученных статистических данных?"
      ],
      "metadata": {
        "id": "vm0-5sY4WX2I"
      }
    },
    {
      "cell_type": "markdown",
      "source": [
        "Мы видим, что медиана и среднее значение очень отличаются, они лежат очень близко к максимальному значению. Поэтому можно сделать вывод, что распределение - ненормальное(склонено вправо)"
      ],
      "metadata": {
        "id": "OnO1hVGyWe8D"
      }
    },
    {
      "cell_type": "markdown",
      "source": [
        "##Основы визуализации"
      ],
      "metadata": {
        "id": "zDISZbQVWk6m"
      }
    },
    {
      "cell_type": "markdown",
      "source": [
        " Постройте гистограмму переменной (X) относительно категориального признака (Y) из своего датасета."
      ],
      "metadata": {
        "id": "aU8cakZvZBuj"
      }
    },
    {
      "cell_type": "code",
      "source": [
        "df_2008 = list(df[df['Year'] == 2008]['Access to electricity (% of population)'])\n",
        "df_2010 = list(df[df['Year'] == 2010]['Access to electricity (% of population)'])\n",
        "df_2015 = list(df[df['Year'] == 2015]['Access to electricity (% of population)'])\n",
        "type_e = ['2008','2010','2015']\n",
        "plt.figure(figsize=(4, 3))\n",
        "plt.hist([df_2008,df_2010,df_2015],bins=6,label=type_e)\n",
        "plt.title('Гистограмма популяций')\n",
        "plt.xlabel('Пополуции')\n",
        "plt.legend()\n",
        "\n",
        "plt.show()"
      ],
      "metadata": {
        "id": "9-KTIzdfZLmP",
        "outputId": "301d0461-00d0-4384-8928-82c34536f0b8",
        "colab": {
          "base_uri": "https://localhost:8080/",
          "height": 333
        }
      },
      "execution_count": 44,
      "outputs": [
        {
          "output_type": "display_data",
          "data": {
            "text/plain": [
              "<Figure size 400x300 with 1 Axes>"
            ],
            "image/png": "[encoded data removed]"
          },
          "metadata": {}
        }
      ]
    },
    {
      "cell_type": "markdown",
      "source": [
        "Постройте boxplot любого признака из своего датасета.\n",
        "\n",
        "1) boxplot числовой переменной;\n",
        "\n",
        "2) boxplot числовой переменной относительно категориальный переменной;\n",
        "\n",
        "*p.s. Если у вас только один числовой признак, преобразуйте категориальный при помощи LabelEncoder (https://scikit-learn.org/stable/modules/generated/sklearn.preprocessing.LabelEncoder.html)*"
      ],
      "metadata": {
        "id": "zPsEO4m1ZWDy"
      }
    },
    {
      "cell_type": "code",
      "source": [
        "sns.boxplot( y = 'Access to electricity (% of population)', data = df)"
      ],
      "metadata": {
        "id": "ccJLh1r-Zdne",
        "outputId": "0b34ed4f-378b-4d9f-92cd-0958e54610e5",
        "colab": {
          "base_uri": "https://localhost:8080/",
          "height": 428
        }
      },
      "execution_count": 52,
      "outputs": [
        {
          "output_type": "execute_result",
          "data": {
            "text/plain": [
              "<Axes: ylabel='Access to electricity (% of population)'>"
            ]
          },
          "metadata": {},
          "execution_count": 52
        },
        {
          "output_type": "display_data",
          "data": {
            "text/plain": [
              "<Figure size 640x480 with 1 Axes>"
            ],
            "image/png": "[encoded data removed]"
          },
          "metadata": {}
        }
      ]
    },
    {
      "cell_type": "code",
      "source": [
        "sns.boxplot( x = 'Year', y = 'Access to electricity (% of population)', data = df)"
      ],
      "metadata": {
        "id": "9ZRV3jjlq9NN",
        "outputId": "bad73bdc-86db-4bd8-b5b6-07368efa8e1d",
        "colab": {
          "base_uri": "https://localhost:8080/",
          "height": 466
        }
      },
      "execution_count": 42,
      "outputs": [
        {
          "output_type": "execute_result",
          "data": {
            "text/plain": [
              "<Axes: xlabel='Year', ylabel='Access to electricity (% of population)'>"
            ]
          },
          "metadata": {},
          "execution_count": 42
        },
        {
          "output_type": "display_data",
          "data": {
            "text/plain": [
              "<Figure size 640x480 with 1 Axes>"
            ],
            "image/png": "[encoded data removed]"
          },
          "metadata": {}
        }
      ]
    },
    {
      "cell_type": "markdown",
      "source": [
        "Постройте диаграмму рассеивания для числовых признаков вашего датасета.\n",
        "\n",
        "*p.s. Если у вас только один числовой признак, преобразуйте категориальный при помощи LabelEncoder (https://scikit-learn.org/stable/modules/generated/sklearn.preprocessing.LabelEncoder.html)*"
      ],
      "metadata": {
        "id": "mj8cdITDZh53"
      }
    },
    {
      "cell_type": "code",
      "source": [
        "\n",
        "plt.figure(figsize=(4, 3))\n",
        "plt.scatter(df['Access to electricity (% of population)'], df['Renewable energy share in the total final energy consumption (%)'], color='blue')\n",
        "plt.title('Диаграмма рассеивания для широты и количества комнат')\n",
        "plt.xlabel('Популяции')\n",
        "plt.ylabel('Энергетика чего то')\n",
        "plt.show()"
      ],
      "metadata": {
        "id": "V2-ZoNUcZ_2l",
        "outputId": "e062ff39-aec5-4c8c-d322-15642b7ce280",
        "colab": {
          "base_uri": "https://localhost:8080/",
          "height": 333
        }
      },
      "execution_count": 67,
      "outputs": [
        {
          "output_type": "display_data",
          "data": {
            "text/plain": [
              "<Figure size 400x300 with 1 Axes>"
            ],
            "image/png": "[encoded data removed]"
          },
          "metadata": {}
        }
      ]
    },
    {
      "cell_type": "markdown",
      "source": [
        "Постройте матрицу корреляции для двух числовых признаков вашего датасета."
      ],
      "metadata": {
        "id": "S-jG4a5SaFXS"
      }
    },
    {
      "cell_type": "code",
      "source": [],
      "metadata": {
        "id": "u_lOnPtjnfbq"
      },
      "execution_count": null,
      "outputs": []
    },
    {
      "cell_type": "code",
      "source": [
        "sns.heatmap(df[['Access to electricity (% of population)','Renewable energy share in the total final energy consumption (%)']].corr(), cmap=\"YlGnBu\", annot=True)"
      ],
      "metadata": {
        "id": "p04Ifq_ZaOHb",
        "outputId": "860aa5b0-fadb-4c08-ac52-ac21bc796abc",
        "colab": {
          "base_uri": "https://localhost:8080/",
          "height": 900
        }
      },
      "execution_count": 68,
      "outputs": [
        {
          "output_type": "execute_result",
          "data": {
            "text/plain": [
              "<Axes: >"
            ]
          },
          "metadata": {},
          "execution_count": 68
        },
        {
          "output_type": "display_data",
          "data": {
            "text/plain": [
              "<Figure size 640x480 with 2 Axes>"
            ],
            "image/png": "[encoded data removed]"
          },
          "metadata": {}
        }
      ]
    },
    {
      "cell_type": "markdown",
      "source": [
        "Какие выводы можно сделать на основе графиков и матрицы корреляции?"
      ],
      "metadata": {
        "id": "2MVHWXICaoJ4"
      }
    },
    {
      "cell_type": "markdown",
      "source": [
        "Мы видим по графику, что корреляция между двумя числовыми признаками равна -0.78, это говорит о том, что между ними обратная корреляция."
      ],
      "metadata": {
        "id": "HFAFaiNzatLN"
      }
    },
    {
      "cell_type": "markdown",
      "source": [
        "##Задание для гениев*"
      ],
      "metadata": {
        "id": "K5HCSPTPbwfJ"
      }
    },
    {
      "cell_type": "markdown",
      "source": [
        "Реализовать следующие методы поиска выбросов:\n",
        "1. На основе среднего и отклонения\n",
        "2. Критерий Шовене\n",
        "3. С помощью квартилей\n",
        "4. Поиск выбросов по двум переменным\n",
        "\n",
        "[Посмотреть](http://course.omgtu.ru/wp-content/uploads/2021/04/3_%D0%92%D1%8B%D0%B1%D1%80%D0%BE%D1%81%D1%8B.pdf)\n",
        "\n",
        "P.S. в качестве возвразаемого значения методов может быть:\n",
        "1. очищенный датафрейм\n",
        "2. индексы выбросов ```df.series.index```"
      ],
      "metadata": {
        "id": "pil5bgt5b98A"
      }
    },
    {
      "cell_type": "code",
      "source": [
        "\"\"\"\n",
        "\n",
        "Ваш код здесь\n",
        "\n",
        "\"\"\""
      ],
      "metadata": {
        "id": "IXM6eoIvdCBs"
      },
      "execution_count": null,
      "outputs": []
    },
    {
      "cell_type": "markdown",
      "source": [
        "### Пример реализации одного метода"
      ],
      "metadata": {
        "id": "dRQRyxdgD_sk"
      }
    },
    {
      "cell_type": "code",
      "source": [
        "from statistics import median, mean\n",
        "\n",
        "class Outline:\n",
        "  def __init__(self, df):\n",
        "    self.df = df\n",
        "\n",
        "  def delete_outline_by_mean(self, column_name):\n",
        "    mean_data = mean(self.df[column_name])\n",
        "    maximum = mean_data * 2\n",
        "    result = []\n",
        "\n",
        "    for item in self.df[column_name]:\n",
        "      if abs(item - mean_data) < maximum:\n",
        "        result.append(item)\n",
        "\n",
        "    return result\n",
        "\n"
      ],
      "metadata": {
        "id": "lJEOQcx0vavH"
      },
      "execution_count": null,
      "outputs": []
    },
    {
      "cell_type": "code",
      "source": [
        "data = pd.DataFrame(\n",
        "    data = {\n",
        "        \"col1\": [1, 2, 3, 4, 5, 1000],\n",
        "        \"col2\": [1, 2, 3, 2, 1, 4]\n",
        "    }\n",
        ")\n",
        "\n",
        "so = Outline(data)\n",
        "so.delete_outline_by_mean(\"col1\")"
      ],
      "metadata": {
        "colab": {
          "base_uri": "https://localhost:8080/"
        },
        "id": "1EViTEon8Rkj",
        "outputId": "d1fa0b6f-a127-4d89-c2c8-9597251aaac6"
      },
      "execution_count": null,
      "outputs": [
        {
          "output_type": "execute_result",
          "data": {
            "text/plain": [
              "[1, 2, 3, 4, 5]"
            ]
          },
          "metadata": {},
          "execution_count": 39
        }
      ]
    }
  ]
}